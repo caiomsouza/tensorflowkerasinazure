{
 "cells": [
  {
   "cell_type": "code",
   "execution_count": 4,
   "metadata": {},
   "outputs": [],
   "source": [
    "import json\n",
    "import tensorflow as tf\n",
    "import csv\n",
    "import random\n",
    "import numpy as np\n",
    "import pandas as pd\n",
    "\n",
    "from tensorflow.keras.preprocessing.text import Tokenizer\n",
    "from tensorflow.keras.preprocessing.sequence import pad_sequences\n",
    "from tensorflow.keras.utils import to_categorical\n",
    "from tensorflow.keras import regularizers\n",
    "import bz2\n",
    "\n",
    "embedding_dim = 100\n",
    "max_length = 40\n",
    "trunc_type='post'\n",
    "padding_type='post'\n",
    "oov_tok = \"<OOV>\"\n",
    "training_size=1600#Your dataset size here. Experiment using smaller values (i.e. 16000), but don't forget to train on at least 160000 to see the best effects\n",
    "test_portion=.1\n",
    "\n"
   ]
  },
  {
   "cell_type": "code",
   "execution_count": 5,
   "metadata": {},
   "outputs": [],
   "source": [
    "def processbz2data(filename):\n",
    "    \n",
    "\n",
    "    bz2datalist = []\n",
    "    with bz2.open(filename, \"rb\") as f:\n",
    "        # Decompress data from file\n",
    "        for line in f:\n",
    "            #print(line)\n",
    "            line = str(line)\n",
    "            onereview = line.split('__label__')\n",
    "            #print(onereview)\n",
    "            fullreviewstring = onereview[1]\n",
    "            reviewlabel = fullreviewstring[0]\n",
    "            reviewstring = str(fullreviewstring[1:])\n",
    "            #print(reviewlabel)\n",
    "            #print(reviewstring)\n",
    "            bz2datalist.append((reviewlabel,reviewstring))\n",
    "    bz2datadf = pd.DataFrame(bz2datalist,columns = ['label','reviewtext'])            \n",
    "    return bz2datadf"
   ]
  },
  {
   "cell_type": "code",
   "execution_count": 78,
   "metadata": {},
   "outputs": [],
   "source": [
    "mydataset = pd.read_csv('training_cleaned.csv', header=0, names=['label','somecol','timeoftweet', 'weirdcol', 'whotweeted', 'tweettext'])\n",
    "#mydatasetnoheader = pd.read_csv('training_cleaned.csv')"
   ]
  },
  {
   "cell_type": "code",
   "execution_count": 6,
   "metadata": {},
   "outputs": [],
   "source": [
    "mydata = processbz2data('train.ft.txt.bz2')"
   ]
  },
  {
   "cell_type": "code",
   "execution_count": 7,
   "metadata": {},
   "outputs": [
    {
     "data": {
      "text/html": [
       "<div>\n",
       "<style scoped>\n",
       "    .dataframe tbody tr th:only-of-type {\n",
       "        vertical-align: middle;\n",
       "    }\n",
       "\n",
       "    .dataframe tbody tr th {\n",
       "        vertical-align: top;\n",
       "    }\n",
       "\n",
       "    .dataframe thead th {\n",
       "        text-align: right;\n",
       "    }\n",
       "</style>\n",
       "<table border=\"1\" class=\"dataframe\">\n",
       "  <thead>\n",
       "    <tr style=\"text-align: right;\">\n",
       "      <th></th>\n",
       "      <th>label</th>\n",
       "      <th>reviewtext</th>\n",
       "    </tr>\n",
       "  </thead>\n",
       "  <tbody>\n",
       "    <tr>\n",
       "      <th>0</th>\n",
       "      <td>2</td>\n",
       "      <td>Stuning even for the non-gamer: This sound tr...</td>\n",
       "    </tr>\n",
       "    <tr>\n",
       "      <th>1</th>\n",
       "      <td>2</td>\n",
       "      <td>The best soundtrack ever to anything.: I'm re...</td>\n",
       "    </tr>\n",
       "    <tr>\n",
       "      <th>2</th>\n",
       "      <td>2</td>\n",
       "      <td>Amazing!: This soundtrack is my favorite musi...</td>\n",
       "    </tr>\n",
       "    <tr>\n",
       "      <th>3</th>\n",
       "      <td>2</td>\n",
       "      <td>Excellent Soundtrack: I truly like this sound...</td>\n",
       "    </tr>\n",
       "    <tr>\n",
       "      <th>4</th>\n",
       "      <td>2</td>\n",
       "      <td>Remember, Pull Your Jaw Off The Floor After H...</td>\n",
       "    </tr>\n",
       "    <tr>\n",
       "      <th>5</th>\n",
       "      <td>2</td>\n",
       "      <td>an absolute masterpiece: I am quite sure any ...</td>\n",
       "    </tr>\n",
       "    <tr>\n",
       "      <th>6</th>\n",
       "      <td>1</td>\n",
       "      <td>Buyer beware: This is a self-published book, ...</td>\n",
       "    </tr>\n",
       "    <tr>\n",
       "      <th>7</th>\n",
       "      <td>2</td>\n",
       "      <td>Glorious story: I loved Whisper of the wicked...</td>\n",
       "    </tr>\n",
       "    <tr>\n",
       "      <th>8</th>\n",
       "      <td>2</td>\n",
       "      <td>A FIVE STAR BOOK: I just finished reading Whi...</td>\n",
       "    </tr>\n",
       "    <tr>\n",
       "      <th>9</th>\n",
       "      <td>2</td>\n",
       "      <td>Whispers of the Wicked Saints: This was a eas...</td>\n",
       "    </tr>\n",
       "  </tbody>\n",
       "</table>\n",
       "</div>"
      ],
      "text/plain": [
       "  label                                         reviewtext\n",
       "0     2   Stuning even for the non-gamer: This sound tr...\n",
       "1     2   The best soundtrack ever to anything.: I'm re...\n",
       "2     2   Amazing!: This soundtrack is my favorite musi...\n",
       "3     2   Excellent Soundtrack: I truly like this sound...\n",
       "4     2   Remember, Pull Your Jaw Off The Floor After H...\n",
       "5     2   an absolute masterpiece: I am quite sure any ...\n",
       "6     1   Buyer beware: This is a self-published book, ...\n",
       "7     2   Glorious story: I loved Whisper of the wicked...\n",
       "8     2   A FIVE STAR BOOK: I just finished reading Whi...\n",
       "9     2   Whispers of the Wicked Saints: This was a eas..."
      ]
     },
     "execution_count": 7,
     "metadata": {},
     "output_type": "execute_result"
    }
   ],
   "source": [
    "mydata.head(10)"
   ]
  },
  {
   "cell_type": "code",
   "execution_count": 79,
   "metadata": {},
   "outputs": [
    {
     "data": {
      "text/html": [
       "<div>\n",
       "<style scoped>\n",
       "    .dataframe tbody tr th:only-of-type {\n",
       "        vertical-align: middle;\n",
       "    }\n",
       "\n",
       "    .dataframe tbody tr th {\n",
       "        vertical-align: top;\n",
       "    }\n",
       "\n",
       "    .dataframe thead th {\n",
       "        text-align: right;\n",
       "    }\n",
       "</style>\n",
       "<table border=\"1\" class=\"dataframe\">\n",
       "  <thead>\n",
       "    <tr style=\"text-align: right;\">\n",
       "      <th></th>\n",
       "      <th>label</th>\n",
       "      <th>somecol</th>\n",
       "      <th>timeoftweet</th>\n",
       "      <th>weirdcol</th>\n",
       "      <th>whotweeted</th>\n",
       "      <th>tweettext</th>\n",
       "    </tr>\n",
       "  </thead>\n",
       "  <tbody>\n",
       "    <tr>\n",
       "      <th>0</th>\n",
       "      <td>0</td>\n",
       "      <td>1467810672</td>\n",
       "      <td>Mon Apr 06 22:19:49 PDT 2009</td>\n",
       "      <td>NO_QUERY</td>\n",
       "      <td>scotthamilton</td>\n",
       "      <td>is upset that he can't update his Facebook by ...</td>\n",
       "    </tr>\n",
       "    <tr>\n",
       "      <th>1</th>\n",
       "      <td>0</td>\n",
       "      <td>1467810917</td>\n",
       "      <td>Mon Apr 06 22:19:53 PDT 2009</td>\n",
       "      <td>NO_QUERY</td>\n",
       "      <td>mattycus</td>\n",
       "      <td>@Kenichan I dived many times for the ball. Man...</td>\n",
       "    </tr>\n",
       "    <tr>\n",
       "      <th>2</th>\n",
       "      <td>0</td>\n",
       "      <td>1467811184</td>\n",
       "      <td>Mon Apr 06 22:19:57 PDT 2009</td>\n",
       "      <td>NO_QUERY</td>\n",
       "      <td>ElleCTF</td>\n",
       "      <td>my whole body feels itchy and like its on fire</td>\n",
       "    </tr>\n",
       "    <tr>\n",
       "      <th>3</th>\n",
       "      <td>0</td>\n",
       "      <td>1467811193</td>\n",
       "      <td>Mon Apr 06 22:19:57 PDT 2009</td>\n",
       "      <td>NO_QUERY</td>\n",
       "      <td>Karoli</td>\n",
       "      <td>@nationwideclass no, it's not behaving at all....</td>\n",
       "    </tr>\n",
       "    <tr>\n",
       "      <th>4</th>\n",
       "      <td>0</td>\n",
       "      <td>1467811372</td>\n",
       "      <td>Mon Apr 06 22:20:00 PDT 2009</td>\n",
       "      <td>NO_QUERY</td>\n",
       "      <td>joy_wolf</td>\n",
       "      <td>@Kwesidei not the whole crew</td>\n",
       "    </tr>\n",
       "    <tr>\n",
       "      <th>5</th>\n",
       "      <td>0</td>\n",
       "      <td>1467811592</td>\n",
       "      <td>Mon Apr 06 22:20:03 PDT 2009</td>\n",
       "      <td>NO_QUERY</td>\n",
       "      <td>mybirch</td>\n",
       "      <td>Need a hug</td>\n",
       "    </tr>\n",
       "    <tr>\n",
       "      <th>6</th>\n",
       "      <td>0</td>\n",
       "      <td>1467811594</td>\n",
       "      <td>Mon Apr 06 22:20:03 PDT 2009</td>\n",
       "      <td>NO_QUERY</td>\n",
       "      <td>coZZ</td>\n",
       "      <td>@LOLTrish hey  long time no see! Yes.. Rains a...</td>\n",
       "    </tr>\n",
       "    <tr>\n",
       "      <th>7</th>\n",
       "      <td>0</td>\n",
       "      <td>1467811795</td>\n",
       "      <td>Mon Apr 06 22:20:05 PDT 2009</td>\n",
       "      <td>NO_QUERY</td>\n",
       "      <td>2Hood4Hollywood</td>\n",
       "      <td>@Tatiana_K nope they didn't have it</td>\n",
       "    </tr>\n",
       "    <tr>\n",
       "      <th>8</th>\n",
       "      <td>0</td>\n",
       "      <td>1467812025</td>\n",
       "      <td>Mon Apr 06 22:20:09 PDT 2009</td>\n",
       "      <td>NO_QUERY</td>\n",
       "      <td>mimismo</td>\n",
       "      <td>@twittera que me muera ?</td>\n",
       "    </tr>\n",
       "    <tr>\n",
       "      <th>9</th>\n",
       "      <td>0</td>\n",
       "      <td>1467812416</td>\n",
       "      <td>Mon Apr 06 22:20:16 PDT 2009</td>\n",
       "      <td>NO_QUERY</td>\n",
       "      <td>erinx3leannexo</td>\n",
       "      <td>spring break in plain city... it's snowing</td>\n",
       "    </tr>\n",
       "  </tbody>\n",
       "</table>\n",
       "</div>"
      ],
      "text/plain": [
       "   label     somecol                   timeoftweet  weirdcol       whotweeted  \\\n",
       "0      0  1467810672  Mon Apr 06 22:19:49 PDT 2009  NO_QUERY    scotthamilton   \n",
       "1      0  1467810917  Mon Apr 06 22:19:53 PDT 2009  NO_QUERY         mattycus   \n",
       "2      0  1467811184  Mon Apr 06 22:19:57 PDT 2009  NO_QUERY          ElleCTF   \n",
       "3      0  1467811193  Mon Apr 06 22:19:57 PDT 2009  NO_QUERY           Karoli   \n",
       "4      0  1467811372  Mon Apr 06 22:20:00 PDT 2009  NO_QUERY         joy_wolf   \n",
       "5      0  1467811592  Mon Apr 06 22:20:03 PDT 2009  NO_QUERY          mybirch   \n",
       "6      0  1467811594  Mon Apr 06 22:20:03 PDT 2009  NO_QUERY             coZZ   \n",
       "7      0  1467811795  Mon Apr 06 22:20:05 PDT 2009  NO_QUERY  2Hood4Hollywood   \n",
       "8      0  1467812025  Mon Apr 06 22:20:09 PDT 2009  NO_QUERY          mimismo   \n",
       "9      0  1467812416  Mon Apr 06 22:20:16 PDT 2009  NO_QUERY   erinx3leannexo   \n",
       "\n",
       "                                           tweettext  \n",
       "0  is upset that he can't update his Facebook by ...  \n",
       "1  @Kenichan I dived many times for the ball. Man...  \n",
       "2    my whole body feels itchy and like its on fire   \n",
       "3  @nationwideclass no, it's not behaving at all....  \n",
       "4                      @Kwesidei not the whole crew   \n",
       "5                                        Need a hug   \n",
       "6  @LOLTrish hey  long time no see! Yes.. Rains a...  \n",
       "7               @Tatiana_K nope they didn't have it   \n",
       "8                          @twittera que me muera ?   \n",
       "9        spring break in plain city... it's snowing   "
      ]
     },
     "execution_count": 79,
     "metadata": {},
     "output_type": "execute_result"
    }
   ],
   "source": [
    "mydataset.head(10)"
   ]
  },
  {
   "cell_type": "code",
   "execution_count": 80,
   "metadata": {},
   "outputs": [
    {
     "data": {
      "text/html": [
       "<div>\n",
       "<style scoped>\n",
       "    .dataframe tbody tr th:only-of-type {\n",
       "        vertical-align: middle;\n",
       "    }\n",
       "\n",
       "    .dataframe tbody tr th {\n",
       "        vertical-align: top;\n",
       "    }\n",
       "\n",
       "    .dataframe thead th {\n",
       "        text-align: right;\n",
       "    }\n",
       "</style>\n",
       "<table border=\"1\" class=\"dataframe\">\n",
       "  <thead>\n",
       "    <tr style=\"text-align: right;\">\n",
       "      <th></th>\n",
       "      <th>label</th>\n",
       "      <th>somecol</th>\n",
       "      <th>timeoftweet</th>\n",
       "      <th>weirdcol</th>\n",
       "      <th>whotweeted</th>\n",
       "      <th>tweettext</th>\n",
       "    </tr>\n",
       "  </thead>\n",
       "  <tbody>\n",
       "    <tr>\n",
       "      <th>799999</th>\n",
       "      <td>4</td>\n",
       "      <td>1467822272</td>\n",
       "      <td>Mon Apr 06 22:22:45 PDT 2009</td>\n",
       "      <td>NO_QUERY</td>\n",
       "      <td>ersle</td>\n",
       "      <td>I LOVE @Health4UandPets u guys r the best!!</td>\n",
       "    </tr>\n",
       "    <tr>\n",
       "      <th>800000</th>\n",
       "      <td>4</td>\n",
       "      <td>1467822273</td>\n",
       "      <td>Mon Apr 06 22:22:45 PDT 2009</td>\n",
       "      <td>NO_QUERY</td>\n",
       "      <td>becca210</td>\n",
       "      <td>im meeting up with one of my besties tonight! ...</td>\n",
       "    </tr>\n",
       "    <tr>\n",
       "      <th>800001</th>\n",
       "      <td>4</td>\n",
       "      <td>1467822283</td>\n",
       "      <td>Mon Apr 06 22:22:46 PDT 2009</td>\n",
       "      <td>NO_QUERY</td>\n",
       "      <td>Wingman29</td>\n",
       "      <td>@DaRealSunisaKim Thanks for the Twitter add, S...</td>\n",
       "    </tr>\n",
       "    <tr>\n",
       "      <th>800002</th>\n",
       "      <td>4</td>\n",
       "      <td>1467822287</td>\n",
       "      <td>Mon Apr 06 22:22:46 PDT 2009</td>\n",
       "      <td>NO_QUERY</td>\n",
       "      <td>katarinka</td>\n",
       "      <td>Being sick can be really cheap when it hurts t...</td>\n",
       "    </tr>\n",
       "    <tr>\n",
       "      <th>800003</th>\n",
       "      <td>4</td>\n",
       "      <td>1467822293</td>\n",
       "      <td>Mon Apr 06 22:22:46 PDT 2009</td>\n",
       "      <td>NO_QUERY</td>\n",
       "      <td>_EmilyYoung</td>\n",
       "      <td>@LovesBrooklyn2 he has that effect on everyone</td>\n",
       "    </tr>\n",
       "    <tr>\n",
       "      <th>...</th>\n",
       "      <td>...</td>\n",
       "      <td>...</td>\n",
       "      <td>...</td>\n",
       "      <td>...</td>\n",
       "      <td>...</td>\n",
       "      <td>...</td>\n",
       "    </tr>\n",
       "    <tr>\n",
       "      <th>1599994</th>\n",
       "      <td>4</td>\n",
       "      <td>2193601966</td>\n",
       "      <td>Tue Jun 16 08:40:49 PDT 2009</td>\n",
       "      <td>NO_QUERY</td>\n",
       "      <td>AmandaMarie1028</td>\n",
       "      <td>Just woke up. Having no school is the best fee...</td>\n",
       "    </tr>\n",
       "    <tr>\n",
       "      <th>1599995</th>\n",
       "      <td>4</td>\n",
       "      <td>2193601969</td>\n",
       "      <td>Tue Jun 16 08:40:49 PDT 2009</td>\n",
       "      <td>NO_QUERY</td>\n",
       "      <td>TheWDBoards</td>\n",
       "      <td>TheWDB.com - Very cool to hear old Walt interv...</td>\n",
       "    </tr>\n",
       "    <tr>\n",
       "      <th>1599996</th>\n",
       "      <td>4</td>\n",
       "      <td>2193601991</td>\n",
       "      <td>Tue Jun 16 08:40:49 PDT 2009</td>\n",
       "      <td>NO_QUERY</td>\n",
       "      <td>bpbabe</td>\n",
       "      <td>Are you ready for your MoJo Makeover? Ask me f...</td>\n",
       "    </tr>\n",
       "    <tr>\n",
       "      <th>1599997</th>\n",
       "      <td>4</td>\n",
       "      <td>2193602064</td>\n",
       "      <td>Tue Jun 16 08:40:49 PDT 2009</td>\n",
       "      <td>NO_QUERY</td>\n",
       "      <td>tinydiamondz</td>\n",
       "      <td>Happy 38th Birthday to my boo of alll time!!! ...</td>\n",
       "    </tr>\n",
       "    <tr>\n",
       "      <th>1599998</th>\n",
       "      <td>4</td>\n",
       "      <td>2193602129</td>\n",
       "      <td>Tue Jun 16 08:40:50 PDT 2009</td>\n",
       "      <td>NO_QUERY</td>\n",
       "      <td>RyanTrevMorris</td>\n",
       "      <td>happy #charitytuesday @theNSPCC @SparksCharity...</td>\n",
       "    </tr>\n",
       "  </tbody>\n",
       "</table>\n",
       "<p>800000 rows × 6 columns</p>\n",
       "</div>"
      ],
      "text/plain": [
       "         label     somecol                   timeoftweet  weirdcol  \\\n",
       "799999       4  1467822272  Mon Apr 06 22:22:45 PDT 2009  NO_QUERY   \n",
       "800000       4  1467822273  Mon Apr 06 22:22:45 PDT 2009  NO_QUERY   \n",
       "800001       4  1467822283  Mon Apr 06 22:22:46 PDT 2009  NO_QUERY   \n",
       "800002       4  1467822287  Mon Apr 06 22:22:46 PDT 2009  NO_QUERY   \n",
       "800003       4  1467822293  Mon Apr 06 22:22:46 PDT 2009  NO_QUERY   \n",
       "...        ...         ...                           ...       ...   \n",
       "1599994      4  2193601966  Tue Jun 16 08:40:49 PDT 2009  NO_QUERY   \n",
       "1599995      4  2193601969  Tue Jun 16 08:40:49 PDT 2009  NO_QUERY   \n",
       "1599996      4  2193601991  Tue Jun 16 08:40:49 PDT 2009  NO_QUERY   \n",
       "1599997      4  2193602064  Tue Jun 16 08:40:49 PDT 2009  NO_QUERY   \n",
       "1599998      4  2193602129  Tue Jun 16 08:40:50 PDT 2009  NO_QUERY   \n",
       "\n",
       "              whotweeted                                          tweettext  \n",
       "799999             ersle       I LOVE @Health4UandPets u guys r the best!!   \n",
       "800000          becca210  im meeting up with one of my besties tonight! ...  \n",
       "800001         Wingman29  @DaRealSunisaKim Thanks for the Twitter add, S...  \n",
       "800002         katarinka  Being sick can be really cheap when it hurts t...  \n",
       "800003       _EmilyYoung    @LovesBrooklyn2 he has that effect on everyone   \n",
       "...                  ...                                                ...  \n",
       "1599994  AmandaMarie1028  Just woke up. Having no school is the best fee...  \n",
       "1599995      TheWDBoards  TheWDB.com - Very cool to hear old Walt interv...  \n",
       "1599996           bpbabe  Are you ready for your MoJo Makeover? Ask me f...  \n",
       "1599997     tinydiamondz  Happy 38th Birthday to my boo of alll time!!! ...  \n",
       "1599998   RyanTrevMorris  happy #charitytuesday @theNSPCC @SparksCharity...  \n",
       "\n",
       "[800000 rows x 6 columns]"
      ]
     },
     "execution_count": 80,
     "metadata": {},
     "output_type": "execute_result"
    }
   ],
   "source": [
    "mydataset[mydataset['label'] !=0]"
   ]
  },
  {
   "cell_type": "code",
   "execution_count": 8,
   "metadata": {},
   "outputs": [
    {
     "name": "stdout",
     "output_type": "stream",
     "text": [
      "3600000\n"
     ]
    }
   ],
   "source": [
    "#totalrows = mydataset.shape[0]\n",
    "#print(totalrows)\n",
    "#shuffled = mydataset.sample(random_state=4, n=totalrows)\n",
    "totalrows = mydata.shape[0]\n",
    "print(totalrows)\n",
    "shuffled = mydata.sample(random_state=4, n=totalrows)"
   ]
  },
  {
   "cell_type": "code",
   "execution_count": 9,
   "metadata": {},
   "outputs": [
    {
     "data": {
      "text/html": [
       "<div>\n",
       "<style scoped>\n",
       "    .dataframe tbody tr th:only-of-type {\n",
       "        vertical-align: middle;\n",
       "    }\n",
       "\n",
       "    .dataframe tbody tr th {\n",
       "        vertical-align: top;\n",
       "    }\n",
       "\n",
       "    .dataframe thead th {\n",
       "        text-align: right;\n",
       "    }\n",
       "</style>\n",
       "<table border=\"1\" class=\"dataframe\">\n",
       "  <thead>\n",
       "    <tr style=\"text-align: right;\">\n",
       "      <th></th>\n",
       "      <th>label</th>\n",
       "      <th>reviewtext</th>\n",
       "    </tr>\n",
       "  </thead>\n",
       "  <tbody>\n",
       "    <tr>\n",
       "      <th>209260</th>\n",
       "      <td>2</td>\n",
       "      <td>Good CB: The radio works as advertised. Clear...</td>\n",
       "    </tr>\n",
       "    <tr>\n",
       "      <th>59068</th>\n",
       "      <td>2</td>\n",
       "      <td>Charming escapist escapist chick lit: The deb...</td>\n",
       "    </tr>\n",
       "    <tr>\n",
       "      <th>1307912</th>\n",
       "      <td>2</td>\n",
       "      <td>I Loved this book: This book was a very fast ...</td>\n",
       "    </tr>\n",
       "    <tr>\n",
       "      <th>916790</th>\n",
       "      <td>1</td>\n",
       "      <td>This watch has satin strap!: The watch is pre...</td>\n",
       "    </tr>\n",
       "    <tr>\n",
       "      <th>331466</th>\n",
       "      <td>2</td>\n",
       "      <td>Best on the market: I picked this up from Who...</td>\n",
       "    </tr>\n",
       "    <tr>\n",
       "      <th>38788</th>\n",
       "      <td>1</td>\n",
       "      <td>Worthless....Sank Faster Than The Titanic: Th...</td>\n",
       "    </tr>\n",
       "    <tr>\n",
       "      <th>803465</th>\n",
       "      <td>2</td>\n",
       "      <td>Nights in Rodanthe: I received the movie Nigh...</td>\n",
       "    </tr>\n",
       "    <tr>\n",
       "      <th>972164</th>\n",
       "      <td>1</td>\n",
       "      <td>Shocked at my disappointment.: Was very supri...</td>\n",
       "    </tr>\n",
       "    <tr>\n",
       "      <th>2320044</th>\n",
       "      <td>2</td>\n",
       "      <td>Fun, simple, game!: This game is a lot of fun...</td>\n",
       "    </tr>\n",
       "    <tr>\n",
       "      <th>1461522</th>\n",
       "      <td>2</td>\n",
       "      <td>Lighter...Brighter... Man, I could go on and ...</td>\n",
       "    </tr>\n",
       "  </tbody>\n",
       "</table>\n",
       "</div>"
      ],
      "text/plain": [
       "        label                                         reviewtext\n",
       "209260      2   Good CB: The radio works as advertised. Clear...\n",
       "59068       2   Charming escapist escapist chick lit: The deb...\n",
       "1307912     2   I Loved this book: This book was a very fast ...\n",
       "916790      1   This watch has satin strap!: The watch is pre...\n",
       "331466      2   Best on the market: I picked this up from Who...\n",
       "38788       1   Worthless....Sank Faster Than The Titanic: Th...\n",
       "803465      2   Nights in Rodanthe: I received the movie Nigh...\n",
       "972164      1   Shocked at my disappointment.: Was very supri...\n",
       "2320044     2   Fun, simple, game!: This game is a lot of fun...\n",
       "1461522     2   Lighter...Brighter... Man, I could go on and ..."
      ]
     },
     "execution_count": 9,
     "metadata": {},
     "output_type": "execute_result"
    }
   ],
   "source": [
    "shuffled.head(10)"
   ]
  },
  {
   "cell_type": "code",
   "execution_count": 10,
   "metadata": {},
   "outputs": [],
   "source": [
    "import numpy as np\n",
    "def loadGloveModel(gloveFile):\n",
    "    print(\"Loading Glove Model\")\n",
    "    embeddings_index = {}\n",
    "    with open(gloveFile,'rb') as f:\n",
    "        for line in f:\n",
    "            values = line.split();\n",
    "            word = values[0];\n",
    "            coefs = np.asarray(values[1:], dtype='float32');\n",
    "            embeddings_index[word] = coefs;\n",
    "    return embeddings_index"
   ]
  },
  {
   "cell_type": "code",
   "execution_count": 11,
   "metadata": {},
   "outputs": [
    {
     "name": "stdout",
     "output_type": "stream",
     "text": [
      "Loading Glove Model\n"
     ]
    }
   ],
   "source": [
    "embeddingdict = loadGloveModel('glove.twitter.27B\\glove.twitter.27B.100d.txt')"
   ]
  },
  {
   "cell_type": "code",
   "execution_count": 30,
   "metadata": {},
   "outputs": [
    {
     "name": "stdout",
     "output_type": "stream",
     "text": [
      "1193514\n",
      "b'<user>'\n",
      "b'.'\n",
      "b':'\n",
      "b'rt'\n",
      "b','\n",
      "b'<repeat>'\n",
      "b'<hashtag>'\n",
      "b'<number>'\n",
      "b'<url>'\n",
      "b'!'\n",
      "b'i'\n",
      "b'a'\n",
      "b'\"'\n",
      "b'the'\n",
      "b'?'\n",
      "b'you'\n",
      "b'to'\n",
      "b'('\n",
      "b'<allcaps>'\n",
      "b'<elong>'\n",
      "b')'\n",
      "b'me'\n",
      "b'de'\n",
      "b'<smile>'\n",
      "b'\\xef\\xbc\\x81'\n",
      "b'que'\n",
      "b'and'\n",
      "b'\\xe3\\x80\\x82'\n",
      "b'-'\n",
      "b'my'\n",
      "b'no'\n",
      "b'\\xe3\\x80\\x81'\n",
      "b'is'\n",
      "b'it'\n",
      "b'\\xe2\\x80\\xa6'\n",
      "b'in'\n",
      "b'n'\n",
      "b'for'\n",
      "b'/'\n",
      "b'of'\n",
      "b'la'\n",
      "b\"'s\"\n",
      "b'*'\n",
      "b'do'\n",
      "b\"n't\"\n",
      "b'that'\n",
      "b'on'\n",
      "b'y'\n",
      "b\"'\"\n",
      "b'e'\n",
      "b'o'\n",
      "[-4.8371e-01 -2.7318e-01 -4.6840e-02  7.0274e-01 -5.6301e-01 -1.7214e-01\n",
      "  8.1775e-01 -6.6641e-02  2.0224e-02 -2.3878e-01 -1.6122e-02 -1.7875e-01\n",
      " -4.9281e+00 -4.0272e-01 -4.1190e-01 -1.4570e-01  1.8508e-01 -1.9116e-01\n",
      " -8.4608e-01  6.5378e-01  1.2370e-01  4.8835e-02 -3.3709e-01  2.5834e-01\n",
      "  4.7729e-01 -8.8145e-01 -1.3083e-01  7.9499e-01  8.6216e-02 -9.1803e-01\n",
      " -9.6671e-01 -4.8309e-01 -4.0963e-01  1.6920e-01  2.3241e-01 -2.0524e-02\n",
      "  2.2267e-01 -2.6763e-01  1.4378e-01 -4.6547e-02 -1.1726e+00 -3.5298e-02\n",
      "  2.8347e-01  4.3446e-01  1.8472e-01  3.3065e-01  6.7848e-02 -7.6485e-01\n",
      "  1.8351e-01 -6.4361e-01 -7.5015e-01 -4.2583e-02  2.4262e-01 -6.4108e-01\n",
      "  6.9741e-01 -2.3133e-01 -2.1454e-01  3.1040e-01  2.3161e-01  6.8397e-02\n",
      "  8.1428e-02 -3.9331e-01 -1.0927e+00 -4.2618e-02 -9.6970e-02  3.1243e-01\n",
      " -1.0463e+00  2.8207e-01 -7.2446e-01  3.1422e-01  5.9191e-01 -2.7716e-01\n",
      " -8.3745e-02 -3.0487e-01  4.0743e-01  1.6906e-02 -5.3021e-01 -4.0651e-01\n",
      " -2.8332e-01  3.5181e-01  1.4475e+00  1.0493e-01 -9.7307e-02 -1.4306e-01\n",
      "  2.9544e-03  5.3336e-01  3.9376e-02  5.1001e-01  8.3593e-02  1.3237e-01\n",
      "  8.8598e-01  2.8876e-01 -7.1663e-02  3.3424e-01 -8.8094e-02  4.1479e-02\n",
      " -1.8501e-01 -3.2992e-01  2.7373e-01 -1.5416e-01]\n",
      "[ 2.5288e-01  1.3179e-01 -5.3590e-01  8.9960e-01 -4.8101e-01 -3.5433e-01\n",
      "  5.3231e-01 -6.5048e-01  4.3624e-01 -3.2206e-01 -1.8648e-01 -3.0762e-01\n",
      " -2.5927e+00 -8.2291e-02 -1.8574e-01  4.0789e-01  3.6737e-01  2.3208e-03\n",
      " -4.3710e-01  8.0542e-01  9.0362e-01 -1.9318e-01  3.6653e-01 -2.3062e-01\n",
      "  2.1639e-01 -7.1178e-01 -1.1458e-01  1.1877e+00 -2.5039e-01 -3.1615e-02\n",
      " -2.6632e-01 -3.6110e-01 -9.4619e-01  4.0426e-01 -1.4276e-01 -2.0253e-01\n",
      " -4.1755e-02 -9.0437e-01  7.0446e-01  2.4217e-01 -3.4803e-01 -7.3743e-01\n",
      "  5.8433e-01  4.0318e-01  1.0829e-01  6.6254e-02  5.1265e-01 -7.5915e-01\n",
      "  1.7071e-01 -1.2314e+00  1.9568e-03  5.6123e-01 -4.0400e-01 -2.2777e-01\n",
      "  3.2006e-01 -3.7614e-01 -5.0632e-01  6.1108e-01  5.7688e-01  5.3853e-02\n",
      "  6.6897e-02  2.4498e-01  2.2059e-01 -5.1426e-01  4.0763e-01  1.2676e+00\n",
      " -5.3929e-01  1.0416e+00 -1.1445e+00  1.7460e-01  3.6818e-01  5.8719e-01\n",
      "  1.6967e-01 -2.4275e-01 -3.8337e-01 -1.7306e-01  2.9405e-01 -4.3464e-01\n",
      " -2.9435e-01  5.9275e-01  3.1016e-01 -3.2230e-01 -3.1624e-01 -2.3555e-01\n",
      "  1.4585e-01  9.8245e-01  5.4217e-01  3.7139e-01  3.4791e-01  6.0199e-02\n",
      "  5.1368e-01  6.6727e-01  2.7268e-01  4.9913e-02  1.2245e-01  4.8015e-01\n",
      "  3.9119e-02 -6.6512e-01  5.8018e-02 -2.2684e-01]\n"
     ]
    }
   ],
   "source": [
    "print(len(embeddingdict))\n",
    "count=0\n",
    "for key, value in embeddingdict.items():\n",
    "    print(key)\n",
    "    #print(value)\n",
    "    count = count+1\n",
    "    if(count>50):\n",
    "        break\n",
    "print(embeddingdict[b'love'])\n",
    "print(embeddingdict[b'adore'])"
   ]
  },
  {
   "cell_type": "code",
   "execution_count": 16,
   "metadata": {},
   "outputs": [
    {
     "data": {
      "text/html": [
       "<div>\n",
       "<style scoped>\n",
       "    .dataframe tbody tr th:only-of-type {\n",
       "        vertical-align: middle;\n",
       "    }\n",
       "\n",
       "    .dataframe tbody tr th {\n",
       "        vertical-align: top;\n",
       "    }\n",
       "\n",
       "    .dataframe thead th {\n",
       "        text-align: right;\n",
       "    }\n",
       "</style>\n",
       "<table border=\"1\" class=\"dataframe\">\n",
       "  <thead>\n",
       "    <tr style=\"text-align: right;\">\n",
       "      <th></th>\n",
       "      <th>label</th>\n",
       "      <th>reviewtext</th>\n",
       "      <th>newlabel</th>\n",
       "    </tr>\n",
       "  </thead>\n",
       "  <tbody>\n",
       "    <tr>\n",
       "      <th>209260</th>\n",
       "      <td>2</td>\n",
       "      <td>Good CB: The radio works as advertised. Clear...</td>\n",
       "      <td>1</td>\n",
       "    </tr>\n",
       "    <tr>\n",
       "      <th>59068</th>\n",
       "      <td>2</td>\n",
       "      <td>Charming escapist escapist chick lit: The deb...</td>\n",
       "      <td>1</td>\n",
       "    </tr>\n",
       "    <tr>\n",
       "      <th>1307912</th>\n",
       "      <td>2</td>\n",
       "      <td>I Loved this book: This book was a very fast ...</td>\n",
       "      <td>1</td>\n",
       "    </tr>\n",
       "    <tr>\n",
       "      <th>916790</th>\n",
       "      <td>1</td>\n",
       "      <td>This watch has satin strap!: The watch is pre...</td>\n",
       "      <td>0</td>\n",
       "    </tr>\n",
       "    <tr>\n",
       "      <th>331466</th>\n",
       "      <td>2</td>\n",
       "      <td>Best on the market: I picked this up from Who...</td>\n",
       "      <td>1</td>\n",
       "    </tr>\n",
       "    <tr>\n",
       "      <th>38788</th>\n",
       "      <td>1</td>\n",
       "      <td>Worthless....Sank Faster Than The Titanic: Th...</td>\n",
       "      <td>0</td>\n",
       "    </tr>\n",
       "    <tr>\n",
       "      <th>803465</th>\n",
       "      <td>2</td>\n",
       "      <td>Nights in Rodanthe: I received the movie Nigh...</td>\n",
       "      <td>1</td>\n",
       "    </tr>\n",
       "    <tr>\n",
       "      <th>972164</th>\n",
       "      <td>1</td>\n",
       "      <td>Shocked at my disappointment.: Was very supri...</td>\n",
       "      <td>0</td>\n",
       "    </tr>\n",
       "    <tr>\n",
       "      <th>2320044</th>\n",
       "      <td>2</td>\n",
       "      <td>Fun, simple, game!: This game is a lot of fun...</td>\n",
       "      <td>1</td>\n",
       "    </tr>\n",
       "    <tr>\n",
       "      <th>1461522</th>\n",
       "      <td>2</td>\n",
       "      <td>Lighter...Brighter... Man, I could go on and ...</td>\n",
       "      <td>1</td>\n",
       "    </tr>\n",
       "  </tbody>\n",
       "</table>\n",
       "</div>"
      ],
      "text/plain": [
       "        label                                         reviewtext  newlabel\n",
       "209260      2   Good CB: The radio works as advertised. Clear...         1\n",
       "59068       2   Charming escapist escapist chick lit: The deb...         1\n",
       "1307912     2   I Loved this book: This book was a very fast ...         1\n",
       "916790      1   This watch has satin strap!: The watch is pre...         0\n",
       "331466      2   Best on the market: I picked this up from Who...         1\n",
       "38788       1   Worthless....Sank Faster Than The Titanic: Th...         0\n",
       "803465      2   Nights in Rodanthe: I received the movie Nigh...         1\n",
       "972164      1   Shocked at my disappointment.: Was very supri...         0\n",
       "2320044     2   Fun, simple, game!: This game is a lot of fun...         1\n",
       "1461522     2   Lighter...Brighter... Man, I could go on and ...         1"
      ]
     },
     "execution_count": 16,
     "metadata": {},
     "output_type": "execute_result"
    }
   ],
   "source": [
    "#shuffled['newlabel'] = np.where(shuffled['label'] == 4,1,0)\n",
    "shuffled['newlabel'] = np.where(shuffled['label'] == '1',0,1)\n",
    "shuffled.head(10)"
   ]
  },
  {
   "cell_type": "code",
   "execution_count": 17,
   "metadata": {},
   "outputs": [
    {
     "data": {
      "text/plain": [
       "3600000"
      ]
     },
     "execution_count": 17,
     "metadata": {},
     "output_type": "execute_result"
    }
   ],
   "source": [
    "#sentences = shuffled['tweettext'].values\n",
    "sentences = shuffled['reviewtext'].values\n",
    "labels =  shuffled['newlabel'].values\n",
    "totalrows"
   ]
  },
  {
   "cell_type": "code",
   "execution_count": 18,
   "metadata": {},
   "outputs": [],
   "source": [
    "training_size = totalrows\n",
    "tokenizer = Tokenizer()\n",
    "tokenizer.fit_on_texts(sentences)\n",
    "\n",
    "word_index = tokenizer.word_index\n",
    "vocab_size=len(word_index)\n",
    "\n",
    "sequences = tokenizer.texts_to_sequences(sentences)\n",
    "padded = pad_sequences(sequences, maxlen=max_length)\n",
    "\n",
    "split = int(test_portion * training_size)\n",
    "\n",
    "traininglast = training_size - split\n",
    "\n",
    "test_sequences = np.array(padded[traininglast:training_size])\n",
    "training_sequences = np.array(padded[0:traininglast])\n",
    "test_labels = np.array(labels[traininglast:training_size])\n",
    "training_labels = np.array(labels[0:traininglast])\n"
   ]
  },
  {
   "cell_type": "code",
   "execution_count": 19,
   "metadata": {},
   "outputs": [
    {
     "name": "stdout",
     "output_type": "stream",
     "text": [
      "(360000, 40)\n",
      "(3240000, 40)\n",
      "(360000,)\n",
      "(3240000,)\n",
      "1083356\n"
     ]
    }
   ],
   "source": [
    "print(test_sequences.shape)\n",
    "print(training_sequences.shape)\n",
    "print(test_labels.shape)\n",
    "print(training_labels.shape)\n",
    "print(vocab_size)\n",
    "#embeddingdict[stringtolookfor.encode('utf-8')]"
   ]
  },
  {
   "cell_type": "code",
   "execution_count": 20,
   "metadata": {},
   "outputs": [
    {
     "name": "stdout",
     "output_type": "stream",
     "text": [
      "906624 words not found\n",
      "(1083357, 100)\n"
     ]
    }
   ],
   "source": [
    "embeddings_matrix = np.zeros((vocab_size+1, embedding_dim));\n",
    "wordsnotfound=0\n",
    "for word, i in word_index.items():\n",
    "    wordtofind = word.encode('utf-8')\n",
    "    embedding_vector = embeddingdict.get(wordtofind)\n",
    "    if embedding_vector is not None:\n",
    "        embeddings_matrix[i] = embedding_vector\n",
    "    else:\n",
    "        wordsnotfound = wordsnotfound + 1\n",
    "print('{0} words not found'.format(str(wordsnotfound)))\n",
    "print(embeddings_matrix.shape)"
   ]
  },
  {
   "cell_type": "code",
   "execution_count": 21,
   "metadata": {},
   "outputs": [
    {
     "name": "stdout",
     "output_type": "stream",
     "text": [
      "Model: \"sequential\"\n",
      "_________________________________________________________________\n",
      "Layer (type)                 Output Shape              Param #   \n",
      "=================================================================\n",
      "embedding (Embedding)        (None, 40, 100)           108335700 \n",
      "_________________________________________________________________\n",
      "bidirectional (Bidirectional (None, 40, 128)           84480     \n",
      "_________________________________________________________________\n",
      "bidirectional_1 (Bidirection (None, 64)                41216     \n",
      "_________________________________________________________________\n",
      "dense (Dense)                (None, 64)                4160      \n",
      "_________________________________________________________________\n",
      "dense_1 (Dense)              (None, 1)                 65        \n",
      "=================================================================\n",
      "Total params: 108,465,621\n",
      "Trainable params: 129,921\n",
      "Non-trainable params: 108,335,700\n",
      "_________________________________________________________________\n"
     ]
    }
   ],
   "source": [
    "model = tf.keras.Sequential([\n",
    "    tf.keras.layers.Embedding(vocab_size+1, embedding_dim, input_length=max_length, weights=[embeddings_matrix], trainable=False),\n",
    "    # YOUR CODE HERE - experiment with combining different types, such as convolutions and LSTMs\n",
    "    tf.keras.layers.Bidirectional(tf.keras.layers.LSTM(64, return_sequences=True, dropout=0.2)),\n",
    "    tf.keras.layers.Bidirectional(tf.keras.layers.LSTM(32, dropout=0.2)),\n",
    "    tf.keras.layers.Dense(64, activation='relu'),\n",
    "    tf.keras.layers.Dense(1, activation='sigmoid')\n",
    "])\n",
    "model.compile(loss='binary_crossentropy',optimizer='adam',metrics=['accuracy'])\n",
    "model.summary()\n"
   ]
  },
  {
   "cell_type": "code",
   "execution_count": 22,
   "metadata": {},
   "outputs": [
    {
     "name": "stdout",
     "output_type": "stream",
     "text": [
      "Train on 3240000 samples, validate on 360000 samples\n",
      "Epoch 1/10\n",
      "3240000/3240000 [==============================] - 2924s 902us/sample - loss: 0.2911 - accuracy: 0.8736 - val_loss: 0.2504 - val_accuracy: 0.8956\n",
      "Epoch 2/10\n",
      "3240000/3240000 [==============================] - 2878s 888us/sample - loss: 0.2580 - accuracy: 0.8910 - val_loss: 0.2372 - val_accuracy: 0.9017\n",
      "Epoch 3/10\n",
      "3240000/3240000 [==============================] - 2906s 897us/sample - loss: 0.2516 - accuracy: 0.8942 - val_loss: 0.2334 - val_accuracy: 0.9034\n",
      "Epoch 4/10\n",
      "3240000/3240000 [==============================] - 2886s 891us/sample - loss: 0.2483 - accuracy: 0.8957 - val_loss: 0.2316 - val_accuracy: 0.9040\n",
      "Epoch 5/10\n",
      "3240000/3240000 [==============================] - 2855s 881us/sample - loss: 0.2463 - accuracy: 0.8968 - val_loss: 0.2296 - val_accuracy: 0.9055\n",
      "Epoch 6/10\n",
      "3240000/3240000 [==============================] - 2817s 870us/sample - loss: 0.2449 - accuracy: 0.8975 - val_loss: 0.2283 - val_accuracy: 0.9061\n",
      "Epoch 7/10\n",
      "3240000/3240000 [==============================] - 2871s 886us/sample - loss: 0.2440 - accuracy: 0.8978 - val_loss: 0.2310 - val_accuracy: 0.9055\n",
      "Epoch 8/10\n",
      "3240000/3240000 [==============================] - 2886s 891us/sample - loss: 0.2430 - accuracy: 0.8984 - val_loss: 0.2300 - val_accuracy: 0.9065\n",
      "Epoch 9/10\n",
      "3240000/3240000 [==============================] - 2912s 899us/sample - loss: 0.2425 - accuracy: 0.8986 - val_loss: 0.2272 - val_accuracy: 0.9066\n",
      "Epoch 10/10\n",
      "3240000/3240000 [==============================] - 2912s 899us/sample - loss: 0.2421 - accuracy: 0.8989 - val_loss: 0.2261 - val_accuracy: 0.9074\n",
      "Training Complete\n"
     ]
    }
   ],
   "source": [
    "\n",
    "num_epochs = 10\n",
    "history = model.fit(training_sequences, training_labels, epochs=num_epochs, validation_data=(test_sequences, test_labels), verbose=1)\n",
    "\n",
    "print(\"Training Complete\")"
   ]
  },
  {
   "cell_type": "code",
   "execution_count": 23,
   "metadata": {},
   "outputs": [
    {
     "data": {
      "text/plain": [
       "<Figure size 432x288 with 0 Axes>"
      ]
     },
     "execution_count": 23,
     "metadata": {},
     "output_type": "execute_result"
    },
    {
     "data": {
      "image/png": "[encoded data removed]",
      "text/plain": [
       "<Figure size 432x288 with 1 Axes>"
      ]
     },
     "metadata": {
      "needs_background": "light"
     },
     "output_type": "display_data"
    },
    {
     "data": {
      "image/png": "[encoded data removed]",
      "text/plain": [
       "<Figure size 432x288 with 1 Axes>"
      ]
     },
     "metadata": {
      "needs_background": "light"
     },
     "output_type": "display_data"
    },
    {
     "data": {
      "text/plain": [
       "<Figure size 432x288 with 0 Axes>"
      ]
     },
     "metadata": {},
     "output_type": "display_data"
    }
   ],
   "source": [
    "import matplotlib.image  as mpimg\n",
    "import matplotlib.pyplot as plt\n",
    "\n",
    "#-----------------------------------------------------------\n",
    "# Retrieve a list of list results on training and test data\n",
    "# sets for each training epoch\n",
    "#-----------------------------------------------------------\n",
    "acc=history.history['accuracy']\n",
    "val_acc=history.history['val_accuracy']\n",
    "loss=history.history['loss']\n",
    "val_loss=history.history['val_loss']\n",
    "\n",
    "epochs=range(len(acc)) # Get number of epochs\n",
    "\n",
    "#------------------------------------------------\n",
    "# Plot training and validation accuracy per epoch\n",
    "#------------------------------------------------\n",
    "plt.plot(epochs, acc, 'r')\n",
    "plt.plot(epochs, val_acc, 'b')\n",
    "plt.title('Training and validation accuracy')\n",
    "plt.xlabel(\"Epochs\")\n",
    "plt.ylabel(\"Accuracy\")\n",
    "plt.legend([\"Accuracy\", \"Validation Accuracy\"])\n",
    "\n",
    "plt.figure()\n",
    "\n",
    "#------------------------------------------------\n",
    "# Plot training and validation loss per epoch\n",
    "#------------------------------------------------\n",
    "plt.plot(epochs, loss, 'r')\n",
    "plt.plot(epochs, val_loss, 'b')\n",
    "plt.title('Training and validation loss')\n",
    "plt.xlabel(\"Epochs\")\n",
    "plt.ylabel(\"Loss\")\n",
    "plt.legend([\"Loss\", \"Validation Loss\"])\n",
    "\n",
    "plt.figure()\n"
   ]
  },
  {
   "cell_type": "code",
   "execution_count": 24,
   "metadata": {},
   "outputs": [],
   "source": [
    "model.save('sentimentdetectmodel0421.h5')"
   ]
  },
  {
   "cell_type": "code",
   "execution_count": 25,
   "metadata": {},
   "outputs": [],
   "source": [
    "import io\n",
    "tokenizer_json = tokenizer.to_json()\n",
    "with io.open('tokenizer0421.json', 'w', encoding='utf-8') as f:\n",
    "    f.write(json.dumps(tokenizer_json, ensure_ascii=False))"
   ]
  },
  {
   "cell_type": "code",
   "execution_count": 99,
   "metadata": {},
   "outputs": [],
   "source": [
    "with open('tokenizer.json') as f:\n",
    "    data = json.load(f)\n",
    "    ntokenizer = tf.keras.preprocessing.text.tokenizer_from_json(data)"
   ]
  },
  {
   "cell_type": "code",
   "execution_count": 111,
   "metadata": {},
   "outputs": [
    {
     "data": {
      "text/plain": [
       "array([[0.9720116 ],\n",
       "       [0.9594597 ],\n",
       "       [0.01909702],\n",
       "       [0.8554401 ],\n",
       "       [0.07427577],\n",
       "       [0.8987194 ]], dtype=float32)"
      ]
     },
     "execution_count": 111,
     "metadata": {},
     "output_type": "execute_result"
    }
   ],
   "source": [
    "testsentences = ['it was very good', 'i love my family', 'it was not very good'\n",
    "                 ,'I would go with something that is better quality than this one'\n",
    "                 ,'i do not love ui work', ' i adore you'\n",
    "                ]\n",
    "testsequences = ntokenizer.texts_to_sequences(testsentences)\n",
    "testpadded = pad_sequences(testsequences, maxlen=max_length)\n",
    "answer = model.predict(testpadded)\n",
    "answer"
   ]
  },
  {
   "cell_type": "code",
   "execution_count": 112,
   "metadata": {},
   "outputs": [
    {
     "data": {
      "text/plain": [
       "'2.1.0'"
      ]
     },
     "execution_count": 112,
     "metadata": {},
     "output_type": "execute_result"
    }
   ],
   "source": [
    "tf.__version__"
   ]
  },
  {
   "cell_type": "code",
   "execution_count": 113,
   "metadata": {},
   "outputs": [
    {
     "data": {
      "text/plain": [
       "'2.2.4-tf'"
      ]
     },
     "execution_count": 113,
     "metadata": {},
     "output_type": "execute_result"
    }
   ],
   "source": [
    "tf.keras.__version__"
   ]
  },
  {
   "cell_type": "code",
   "execution_count": 1,
   "metadata": {},
   "outputs": [],
   "source": [
    "import bz2"
   ]
  },
  {
   "cell_type": "code",
   "execution_count": 29,
   "metadata": {},
   "outputs": [],
   "source": []
  },
  {
   "cell_type": "code",
   "execution_count": 30,
   "metadata": {},
   "outputs": [],
   "source": [
    "mydata = processbz2data('train.ft.txt.bz2')"
   ]
  },
  {
   "cell_type": "code",
   "execution_count": 31,
   "metadata": {},
   "outputs": [
    {
     "data": {
      "text/plain": [
       "3600000"
      ]
     },
     "execution_count": 31,
     "metadata": {},
     "output_type": "execute_result"
    }
   ],
   "source": [
    "mydata.shape[0]"
   ]
  },
  {
   "cell_type": "code",
   "execution_count": 32,
   "metadata": {},
   "outputs": [],
   "source": [
    "mydatatest = processbz2data('test.ft.txt.bz2')"
   ]
  },
  {
   "cell_type": "code",
   "execution_count": 33,
   "metadata": {},
   "outputs": [
    {
     "data": {
      "text/plain": [
       "400000"
      ]
     },
     "execution_count": 33,
     "metadata": {},
     "output_type": "execute_result"
    }
   ],
   "source": [
    "mydatatest.shape[0]"
   ]
  },
  {
   "cell_type": "code",
   "execution_count": 38,
   "metadata": {},
   "outputs": [
    {
     "data": {
      "text/html": [
       "<div>\n",
       "<style scoped>\n",
       "    .dataframe tbody tr th:only-of-type {\n",
       "        vertical-align: middle;\n",
       "    }\n",
       "\n",
       "    .dataframe tbody tr th {\n",
       "        vertical-align: top;\n",
       "    }\n",
       "\n",
       "    .dataframe thead th {\n",
       "        text-align: right;\n",
       "    }\n",
       "</style>\n",
       "<table border=\"1\" class=\"dataframe\">\n",
       "  <thead>\n",
       "    <tr style=\"text-align: right;\">\n",
       "      <th></th>\n",
       "      <th>label</th>\n",
       "      <th>reviewtext</th>\n",
       "    </tr>\n",
       "  </thead>\n",
       "  <tbody>\n",
       "    <tr>\n",
       "      <th>0</th>\n",
       "      <td>2</td>\n",
       "      <td>Stuning even for the non-gamer: This sound tr...</td>\n",
       "    </tr>\n",
       "    <tr>\n",
       "      <th>1</th>\n",
       "      <td>2</td>\n",
       "      <td>The best soundtrack ever to anything.: I'm re...</td>\n",
       "    </tr>\n",
       "    <tr>\n",
       "      <th>2</th>\n",
       "      <td>2</td>\n",
       "      <td>Amazing!: This soundtrack is my favorite musi...</td>\n",
       "    </tr>\n",
       "    <tr>\n",
       "      <th>3</th>\n",
       "      <td>2</td>\n",
       "      <td>Excellent Soundtrack: I truly like this sound...</td>\n",
       "    </tr>\n",
       "    <tr>\n",
       "      <th>4</th>\n",
       "      <td>2</td>\n",
       "      <td>Remember, Pull Your Jaw Off The Floor After H...</td>\n",
       "    </tr>\n",
       "    <tr>\n",
       "      <th>5</th>\n",
       "      <td>2</td>\n",
       "      <td>an absolute masterpiece: I am quite sure any ...</td>\n",
       "    </tr>\n",
       "    <tr>\n",
       "      <th>6</th>\n",
       "      <td>1</td>\n",
       "      <td>Buyer beware: This is a self-published book, ...</td>\n",
       "    </tr>\n",
       "    <tr>\n",
       "      <th>7</th>\n",
       "      <td>2</td>\n",
       "      <td>Glorious story: I loved Whisper of the wicked...</td>\n",
       "    </tr>\n",
       "    <tr>\n",
       "      <th>8</th>\n",
       "      <td>2</td>\n",
       "      <td>A FIVE STAR BOOK: I just finished reading Whi...</td>\n",
       "    </tr>\n",
       "    <tr>\n",
       "      <th>9</th>\n",
       "      <td>2</td>\n",
       "      <td>Whispers of the Wicked Saints: This was a eas...</td>\n",
       "    </tr>\n",
       "  </tbody>\n",
       "</table>\n",
       "</div>"
      ],
      "text/plain": [
       "  label                                         reviewtext\n",
       "0     2   Stuning even for the non-gamer: This sound tr...\n",
       "1     2   The best soundtrack ever to anything.: I'm re...\n",
       "2     2   Amazing!: This soundtrack is my favorite musi...\n",
       "3     2   Excellent Soundtrack: I truly like this sound...\n",
       "4     2   Remember, Pull Your Jaw Off The Floor After H...\n",
       "5     2   an absolute masterpiece: I am quite sure any ...\n",
       "6     1   Buyer beware: This is a self-published book, ...\n",
       "7     2   Glorious story: I loved Whisper of the wicked...\n",
       "8     2   A FIVE STAR BOOK: I just finished reading Whi...\n",
       "9     2   Whispers of the Wicked Saints: This was a eas..."
      ]
     },
     "execution_count": 38,
     "metadata": {},
     "output_type": "execute_result"
    }
   ],
   "source": [
    "mydata.head(10)"
   ]
  },
  {
   "cell_type": "code",
   "execution_count": null,
   "metadata": {},
   "outputs": [],
   "source": []
  }
 ],
 "metadata": {
  "kernelspec": {
   "display_name": "Python 3",
   "language": "python",
   "name": "python3"
  },
  "language_info": {
   "codemirror_mode": {
    "name": "ipython",
    "version": 3
   },
   "file_extension": ".py",
   "mimetype": "text/x-python",
   "name": "python",
   "nbconvert_exporter": "python",
   "pygments_lexer": "ipython3",
   "version": "3.7.6"
  }
 },
 "nbformat": 4,
 "nbformat_minor": 2
}
